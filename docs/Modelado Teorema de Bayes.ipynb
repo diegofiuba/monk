{
 "cells": [
  {
   "cell_type": "markdown",
   "metadata": {},
   "source": [
    "### Genero una tabla de datos (dataframe) a partir de un archivo csv"
   ]
  },
  {
   "cell_type": "code",
   "execution_count": 1,
   "metadata": {},
   "outputs": [
    {
     "data": {
      "text/html": [
       "<div>\n",
       "<style scoped>\n",
       "    .dataframe tbody tr th:only-of-type {\n",
       "        vertical-align: middle;\n",
       "    }\n",
       "\n",
       "    .dataframe tbody tr th {\n",
       "        vertical-align: top;\n",
       "    }\n",
       "\n",
       "    .dataframe thead th {\n",
       "        text-align: right;\n",
       "    }\n",
       "</style>\n",
       "<table border=\"1\" class=\"dataframe\">\n",
       "  <thead>\n",
       "    <tr style=\"text-align: right;\">\n",
       "      <th></th>\n",
       "      <th>Embarazos</th>\n",
       "      <th>Glucosa</th>\n",
       "      <th>Presion sanguinea</th>\n",
       "      <th>Grosor de piel</th>\n",
       "      <th>Insulina</th>\n",
       "      <th>IMC</th>\n",
       "      <th>Funcion pedigree diabetes</th>\n",
       "      <th>Edad</th>\n",
       "      <th>Diabetes</th>\n",
       "    </tr>\n",
       "  </thead>\n",
       "  <tbody>\n",
       "    <tr>\n",
       "      <th>0</th>\n",
       "      <td>6 a 11</td>\n",
       "      <td>prediabetes</td>\n",
       "      <td>normal</td>\n",
       "      <td>medio</td>\n",
       "      <td>&lt;141</td>\n",
       "      <td>obesidad</td>\n",
       "      <td>0 a 0.85</td>\n",
       "      <td>adulta</td>\n",
       "      <td>si</td>\n",
       "    </tr>\n",
       "    <tr>\n",
       "      <th>1</th>\n",
       "      <td>0 a 5</td>\n",
       "      <td>normal</td>\n",
       "      <td>normal</td>\n",
       "      <td>fino</td>\n",
       "      <td>&lt;141</td>\n",
       "      <td>sobrepeso</td>\n",
       "      <td>0 a 0.85</td>\n",
       "      <td>joven</td>\n",
       "      <td>no</td>\n",
       "    </tr>\n",
       "    <tr>\n",
       "      <th>2</th>\n",
       "      <td>6 a 11</td>\n",
       "      <td>prediabetes</td>\n",
       "      <td>normal</td>\n",
       "      <td>fino</td>\n",
       "      <td>&lt;141</td>\n",
       "      <td>normal</td>\n",
       "      <td>0 a 0.85</td>\n",
       "      <td>joven</td>\n",
       "      <td>si</td>\n",
       "    </tr>\n",
       "    <tr>\n",
       "      <th>3</th>\n",
       "      <td>0 a 5</td>\n",
       "      <td>normal</td>\n",
       "      <td>normal</td>\n",
       "      <td>fino</td>\n",
       "      <td>&lt;141</td>\n",
       "      <td>sobrepeso</td>\n",
       "      <td>0 a 0.85</td>\n",
       "      <td>joven</td>\n",
       "      <td>no</td>\n",
       "    </tr>\n",
       "    <tr>\n",
       "      <th>4</th>\n",
       "      <td>0 a 5</td>\n",
       "      <td>normal</td>\n",
       "      <td>normal</td>\n",
       "      <td>medio</td>\n",
       "      <td>141 a 281</td>\n",
       "      <td>obesidad</td>\n",
       "      <td>&gt;=1.64</td>\n",
       "      <td>joven</td>\n",
       "      <td>si</td>\n",
       "    </tr>\n",
       "  </tbody>\n",
       "</table>\n",
       "</div>"
      ],
      "text/plain": [
       "  Embarazos      Glucosa Presion sanguinea Grosor de piel   Insulina  \\\n",
       "0    6 a 11  prediabetes            normal          medio       <141   \n",
       "1     0 a 5       normal            normal           fino       <141   \n",
       "2    6 a 11  prediabetes            normal           fino       <141   \n",
       "3     0 a 5       normal            normal           fino       <141   \n",
       "4     0 a 5       normal            normal          medio  141 a 281   \n",
       "\n",
       "         IMC Funcion pedigree diabetes    Edad Diabetes  \n",
       "0   obesidad                  0 a 0.85  adulta       si  \n",
       "1  sobrepeso                  0 a 0.85   joven       no  \n",
       "2     normal                  0 a 0.85   joven       si  \n",
       "3  sobrepeso                  0 a 0.85   joven       no  \n",
       "4   obesidad                    >=1.64   joven       si  "
      ]
     },
     "execution_count": 1,
     "metadata": {},
     "output_type": "execute_result"
    }
   ],
   "source": [
    "import pandas as pd\n",
    "ruta=''#'juega-tenis.csv'\n",
    "\n",
    "df=pd.read_csv(ruta+'diabetes_preprocesado.csv')\n",
    "df.head()"
   ]
  },
  {
   "cell_type": "markdown",
   "metadata": {},
   "source": [
    "### Genero datos a priori a partir de una tabla de datos (dataframe)"
   ]
  },
  {
   "cell_type": "code",
   "execution_count": 2,
   "metadata": {},
   "outputs": [
    {
     "name": "stdout",
     "output_type": "stream",
     "text": [
      "Embarazos\n",
      "Glucosa\n",
      "Presion sanguinea\n",
      "Grosor de piel\n",
      "Insulina\n",
      "IMC\n",
      "Funcion pedigree diabetes\n",
      "Edad\n",
      "Diabetes\n"
     ]
    }
   ],
   "source": [
    "import sys\n",
    "sys.path.append(\"..\")\n",
    "from monk import core\n",
    "\n",
    "apriori=core.Data(df)\n",
    "apriori.attributes()"
   ]
  },
  {
   "cell_type": "markdown",
   "metadata": {},
   "source": [
    "### Genero datos con  evidencias"
   ]
  },
  {
   "cell_type": "code",
   "execution_count": 3,
   "metadata": {},
   "outputs": [
    {
     "name": "stdout",
     "output_type": "stream",
     "text": [
      "Diabetes=si\n"
     ]
    }
   ],
   "source": [
    "aposteriori1=apriori.new_scenario('Diabetes','si')\n",
    "aposteriori2=apriori.new_scenario('Diabetes','no')\n",
    "aposteriori3=apriori.new_scenario('Grosor de piel','grueso')\n",
    "aposteriori4=apriori.new_scenario('Glucosa','prediabetes')\n",
    "aposteriori5=apriori.new_scenario('Insulina','422 a 563')\n",
    "                                   \n",
    "aposteriori1.scenario()"
   ]
  },
  {
   "cell_type": "markdown",
   "metadata": {},
   "source": [
    "### P('Glucosa'='normal') a priori"
   ]
  },
  {
   "cell_type": "code",
   "execution_count": 4,
   "metadata": {},
   "outputs": [
    {
     "name": "stdout",
     "output_type": "stream",
     "text": [
      "0.7434895833333334\n"
     ]
    }
   ],
   "source": [
    "apriori.proba('Glucosa','normal')"
   ]
  },
  {
   "cell_type": "markdown",
   "metadata": {},
   "source": [
    "### Función de probabilidad a priori y con evidencias"
   ]
  },
  {
   "cell_type": "code",
   "execution_count": 5,
   "metadata": {},
   "outputs": [
    {
     "name": "stdout",
     "output_type": "stream",
     "text": [
      "normal         0.74349\n",
      "prediabetes    0.25651\n",
      "Name: Glucosa, dtype: float64\n"
     ]
    }
   ],
   "source": [
    "apriori.proba_func('Glucosa')"
   ]
  },
  {
   "cell_type": "code",
   "execution_count": 6,
   "metadata": {},
   "outputs": [
    {
     "name": "stdout",
     "output_type": "stream",
     "text": [
      "prediabetes    0.503731\n",
      "normal         0.496269\n",
      "Name: Glucosa, dtype: float64\n"
     ]
    }
   ],
   "source": [
    "aposteriori1.proba_func('Glucosa')"
   ]
  },
  {
   "cell_type": "code",
   "execution_count": 7,
   "metadata": {},
   "outputs": [
    {
     "name": "stdout",
     "output_type": "stream",
     "text": [
      "normal         0.876\n",
      "prediabetes    0.124\n",
      "Name: Glucosa, dtype: float64\n"
     ]
    }
   ],
   "source": [
    "aposteriori2.proba_func('Glucosa')"
   ]
  },
  {
   "cell_type": "markdown",
   "metadata": {},
   "source": [
    "### Comparaciones entre escenarios"
   ]
  },
  {
   "cell_type": "code",
   "execution_count": 8,
   "metadata": {},
   "outputs": [
    {
     "name": "stdout",
     "output_type": "stream",
     "text": [
      "             a priori  Diabetes=si\n",
      "Glucosa                           \n",
      "normal        0.74349     0.496269\n",
      "prediabetes   0.25651     0.503731\n"
     ]
    }
   ],
   "source": [
    "apriori.compare([aposteriori1],'Glucosa')"
   ]
  },
  {
   "cell_type": "code",
   "execution_count": 9,
   "metadata": {},
   "outputs": [
    {
     "name": "stdout",
     "output_type": "stream",
     "text": [
      "             a priori  Diabetes=si  Diabetes=no\n",
      "Glucosa                                        \n",
      "normal        0.74349     0.496269        0.876\n",
      "prediabetes   0.25651     0.503731        0.124\n"
     ]
    }
   ],
   "source": [
    "apriori.compare([aposteriori1,aposteriori2],'Glucosa')"
   ]
  },
  {
   "cell_type": "code",
   "execution_count": 10,
   "metadata": {
    "scrolled": true
   },
   "outputs": [
    {
     "name": "stdout",
     "output_type": "stream",
     "text": [
      "          a priori  Grosor de piel=grueso\n",
      "Diabetes                                 \n",
      "no        0.651042                    NaN\n",
      "si        0.348958                    1.0\n"
     ]
    }
   ],
   "source": [
    "apriori.compare([aposteriori3],'Diabetes')"
   ]
  },
  {
   "cell_type": "code",
   "execution_count": 11,
   "metadata": {},
   "outputs": [
    {
     "name": "stdout",
     "output_type": "stream",
     "text": [
      "          a priori  Glucosa=prediabetes\n",
      "Diabetes                               \n",
      "no        0.651042             0.314721\n",
      "si        0.348958             0.685279\n"
     ]
    }
   ],
   "source": [
    "apriori.compare([aposteriori4],'Diabetes')"
   ]
  },
  {
   "cell_type": "code",
   "execution_count": 12,
   "metadata": {},
   "outputs": [
    {
     "name": "stdout",
     "output_type": "stream",
     "text": [
      "          a priori  Insulina=422 a 563\n",
      "Diabetes                              \n",
      "no        0.651042            0.307692\n",
      "si        0.348958            0.692308\n"
     ]
    }
   ],
   "source": [
    "apriori.compare([aposteriori5],'Diabetes')"
   ]
  },
  {
   "cell_type": "markdown",
   "metadata": {},
   "source": [
    "### Gráficos de función de probabilidad a priori y con evidencias"
   ]
  },
  {
   "cell_type": "code",
   "execution_count": 13,
   "metadata": {
    "scrolled": false
   },
   "outputs": [
    {
     "data": {
      "image/png": "[encoded data removed]",
      "text/plain": [
       "<Figure size 432x288 with 1 Axes>"
      ]
     },
     "metadata": {
      "needs_background": "light"
     },
     "output_type": "display_data"
    }
   ],
   "source": [
    "apriori.plot_proba_func('Glucosa')"
   ]
  },
  {
   "cell_type": "code",
   "execution_count": 14,
   "metadata": {},
   "outputs": [],
   "source": [
    "#aposteriori1.plot_proba_func('Glucosa')"
   ]
  },
  {
   "cell_type": "code",
   "execution_count": 15,
   "metadata": {},
   "outputs": [
    {
     "data": {
      "image/png": "[encoded data removed]",
      "text/plain": [
       "<Figure size 432x288 with 1 Axes>"
      ]
     },
     "metadata": {
      "needs_background": "light"
     },
     "output_type": "display_data"
    }
   ],
   "source": [
    "aposteriori2.plot_proba_func('Glucosa')"
   ]
  },
  {
   "cell_type": "code",
   "execution_count": 16,
   "metadata": {},
   "outputs": [],
   "source": [
    "#apriori.plot_proba_func_attributes()"
   ]
  },
  {
   "cell_type": "markdown",
   "metadata": {},
   "source": [
    "### Función de probabilidad a priori de todos los atributos"
   ]
  },
  {
   "cell_type": "code",
   "execution_count": 17,
   "metadata": {},
   "outputs": [
    {
     "name": "stdout",
     "output_type": "stream",
     "text": [
      "0 a 5     0.714844\n",
      "6 a 11    0.255208\n",
      ">=12      0.029948\n",
      "Name: Embarazos, dtype: float64\n",
      "normal         0.74349\n",
      "prediabetes    0.25651\n",
      "Name: Glucosa, dtype: float64\n",
      "normal          0.733073\n",
      "riesgoso        0.188802\n",
      "hipertension    0.078125\n",
      "Name: Presion sanguinea, dtype: float64\n",
      "fino      0.781250\n",
      "medio     0.217448\n",
      "grueso    0.001302\n",
      "Name: Grosor de piel, dtype: float64\n",
      "<141         0.786458\n",
      "141 a 281    0.156250\n",
      "281 a 422    0.033854\n",
      "422 a 563    0.016927\n",
      "563 a 705    0.003906\n",
      ">=705        0.002604\n",
      "Name: Insulina, dtype: float64\n",
      "obesidad     0.614583\n",
      "sobrepeso    0.233073\n",
      "normal       0.132812\n",
      "bajo peso    0.019531\n",
      "Name: IMC, dtype: float64\n",
      "0 a 0.85       0.888021\n",
      "0.85 a 1.64    0.100260\n",
      ">=1.64         0.011719\n",
      "Name: Funcion pedigree diabetes, dtype: float64\n",
      "joven      0.747396\n",
      "adulta     0.217448\n",
      "anciana    0.035156\n",
      "Name: Edad, dtype: float64\n",
      "no    0.651042\n",
      "si    0.348958\n",
      "Name: Diabetes, dtype: float64\n"
     ]
    }
   ],
   "source": [
    "apriori.proba_func_attributes()"
   ]
  },
  {
   "cell_type": "code",
   "execution_count": 18,
   "metadata": {},
   "outputs": [],
   "source": [
    "#evidencia1.proba_func_attributes()"
   ]
  },
  {
   "cell_type": "code",
   "execution_count": 19,
   "metadata": {},
   "outputs": [],
   "source": [
    "#evidencia2.proba_func_attributes()"
   ]
  },
  {
   "cell_type": "markdown",
   "metadata": {},
   "source": [
    "### Creación de archivos csv de las funciones de probabilidad a priori y con evidencia"
   ]
  },
  {
   "cell_type": "code",
   "execution_count": 20,
   "metadata": {},
   "outputs": [],
   "source": [
    "apriori.export_proba_func('Glucosa',ruta+'proba-glucosa-apriori.csv') "
   ]
  },
  {
   "cell_type": "code",
   "execution_count": 21,
   "metadata": {},
   "outputs": [],
   "source": [
    "aposteriori1.export_proba_func('Glucosa',ruta+'proba-glucosa-evidencia(diabetes si).csv') "
   ]
  },
  {
   "cell_type": "code",
   "execution_count": 22,
   "metadata": {},
   "outputs": [],
   "source": [
    "aposteriori2.export_proba_func('Glucosa',ruta+'proba-glucosa-evidencia(diabetes no).csv') "
   ]
  },
  {
   "cell_type": "markdown",
   "metadata": {},
   "source": [
    "### Creación de archivos csv de las comparaciones entre escenarios"
   ]
  },
  {
   "cell_type": "code",
   "execution_count": 24,
   "metadata": {},
   "outputs": [],
   "source": [
    "lista_datos=[aposteriori1,aposteriori2] \n",
    "apriori.export_compare(lista_datos,'Embarazos',ruta+'proba-embarazos.csv')\n",
    "apriori.export_compare(lista_datos,'Glucosa',ruta+'proba-glucosa.csv')\n",
    "apriori.export_compare(lista_datos,'Presion sanguinea',ruta+'proba-presion.csv')\n",
    "apriori.export_compare(lista_datos,'Grosor de piel',ruta+'proba-grosor-piel.csv')\n",
    "apriori.export_compare(lista_datos,'Insulina',ruta+'proba-insulina.csv')\n",
    "apriori.export_compare(lista_datos,'IMC',ruta+'proba-IMC.csv')\n",
    "apriori.export_compare(lista_datos,'Funcion pedigree diabetes',ruta+'proba-pedigri.csv')\n",
    "apriori.export_compare(lista_datos,'Edad',ruta+'proba-Edad.csv')"
   ]
  },
  {
   "cell_type": "code",
   "execution_count": 25,
   "metadata": {},
   "outputs": [],
   "source": [
    "apriori.export_compare([aposteriori3],'Diabetes',ruta+'proba-diabetes aposteriori3.csv')\n",
    "apriori.export_compare([aposteriori4],'Diabetes',ruta+'proba-diabetes aposteriori4.csv')\n",
    "apriori.export_compare([aposteriori5],'Diabetes',ruta+'proba-diabetes aposteriori5.csv')"
   ]
  },
  {
   "cell_type": "markdown",
   "metadata": {},
   "source": [
    "### Comparaciones gráficas entre escenarios"
   ]
  },
  {
   "cell_type": "code",
   "execution_count": 18,
   "metadata": {
    "scrolled": false
   },
   "outputs": [
    {
     "data": {
      "image/png": "[encoded data removed]",
      "text/plain": [
       "<Figure size 432x288 with 1 Axes>"
      ]
     },
     "metadata": {
      "needs_background": "light"
     },
     "output_type": "display_data"
    }
   ],
   "source": [
    "apriori.plot_compare([aposteriori1],'Glucosa')"
   ]
  },
  {
   "cell_type": "code",
   "execution_count": 20,
   "metadata": {
    "scrolled": true
   },
   "outputs": [
    {
     "data": {
      "image/png": "[encoded data removed]",
      "text/plain": [
       "<Figure size 432x288 with 1 Axes>"
      ]
     },
     "metadata": {
      "needs_background": "light"
     },
     "output_type": "display_data"
    }
   ],
   "source": [
    "apriori.plot_compare([aposteriori1,aposteriori2],'Glucosa')"
   ]
  },
  {
   "cell_type": "code",
   "execution_count": 25,
   "metadata": {},
   "outputs": [],
   "source": [
    "#aposteriori1.plot_compare(aposteriori2,'Glucosa')"
   ]
  },
  {
   "cell_type": "code",
   "execution_count": 21,
   "metadata": {},
   "outputs": [
    {
     "data": {
      "image/png": "[encoded data removed]",
      "text/plain": [
       "<Figure size 432x288 with 1 Axes>"
      ]
     },
     "metadata": {
      "needs_background": "light"
     },
     "output_type": "display_data"
    }
   ],
   "source": [
    "apriori.plot_compare([aposteriori3],'Diabetes')"
   ]
  },
  {
   "cell_type": "code",
   "execution_count": 22,
   "metadata": {},
   "outputs": [
    {
     "data": {
      "image/png": "[encoded data removed]",
      "text/plain": [
       "<Figure size 432x288 with 1 Axes>"
      ]
     },
     "metadata": {
      "needs_background": "light"
     },
     "output_type": "display_data"
    }
   ],
   "source": [
    "apriori.plot_compare([aposteriori4],'Diabetes')"
   ]
  },
  {
   "cell_type": "code",
   "execution_count": 23,
   "metadata": {},
   "outputs": [
    {
     "data": {
      "image/png": "[encoded data removed]",
      "text/plain": [
       "<Figure size 432x288 with 1 Axes>"
      ]
     },
     "metadata": {
      "needs_background": "light"
     },
     "output_type": "display_data"
    }
   ],
   "source": [
    "apriori.plot_compare([aposteriori5],'Diabetes')"
   ]
  },
  {
   "cell_type": "code",
   "execution_count": null,
   "metadata": {},
   "outputs": [],
   "source": []
  }
 ],
 "metadata": {
  "kernelspec": {
   "display_name": "Python 3 (ipykernel)",
   "language": "python",
   "name": "python3"
  },
  "language_info": {
   "codemirror_mode": {
    "name": "ipython",
    "version": 3
   },
   "file_extension": ".py",
   "mimetype": "text/x-python",
   "name": "python",
   "nbconvert_exporter": "python",
   "pygments_lexer": "ipython3",
   "version": "3.8.10"
  }
 },
 "nbformat": 4,
 "nbformat_minor": 4
}
